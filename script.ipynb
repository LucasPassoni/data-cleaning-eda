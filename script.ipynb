{
 "cells": [
  {
   "cell_type": "code",
   "execution_count": null,
   "id": "e7f07623-f02a-4262-a37c-9ab671e43c0e",
   "metadata": {},
   "outputs": [],
   "source": [
    "#Data Data Cleaning and Exploratory Analysis"
   ]
  },
  {
   "cell_type": "code",
   "execution_count": 3,
   "id": "27407357-4f99-422b-84d0-209c1c49910c",
   "metadata": {},
   "outputs": [
    {
     "ename": "NameError",
     "evalue": "name 'README' is not defined",
     "output_type": "error",
     "traceback": [
      "\u001b[31m---------------------------------------------------------------------------\u001b[39m",
      "\u001b[31mNameError\u001b[39m                                 Traceback (most recent call last)",
      "\u001b[36mCell\u001b[39m\u001b[36m \u001b[39m\u001b[32mIn[3]\u001b[39m\u001b[32m, line 1\u001b[39m\n\u001b[32m----> \u001b[39m\u001b[32m1\u001b[39m readme =\u001b[43mREADME\u001b[49m.md\n",
      "\u001b[31mNameError\u001b[39m: name 'README' is not defined"
     ]
    }
   ],
   "source": [
    "#Link vídeo da Análise original, professora Patrícia Siqueira Ramos - UFAL\n",
    "#https://www.youtube.com/watch?v=0SgghZ5S87o\n",
    "#Link dados Rural:\n",
    "#URL: https://dados.agricultura.gov.br/dataset/sisser3\\\n",
    "#DICIONÁRIO DADOS: https://dados.agricultura.gov.br/dataset/baefdc68-9bad-4204-83e8-f2888b79ab48/resource/2c5c55d0-1473-4749-b08f-cfaf887a9fa3/download/dicionariodedados-sisser.pdf\n"
   ]
  },
  {
   "cell_type": "code",
   "execution_count": 1,
   "id": "6b783c3e-bd56-49cf-a3e0-b65e7d9b1b2e",
   "metadata": {},
   "outputs": [],
   "source": [
    "import pandas as pd\n",
    "import numpy as np\n",
    "import matplotlib as plt"
   ]
  },
  {
   "cell_type": "code",
   "execution_count": 7,
   "id": "28475229-af1e-494b-8a93-7f6cd4dff35b",
   "metadata": {},
   "outputs": [
    {
     "data": {
      "text/plain": [
       "(697453, 38)"
      ]
     },
     "execution_count": 7,
     "metadata": {},
     "output_type": "execute_result"
    }
   ],
   "source": [
    "dados = pd.read_excel(\"dados-2016-2021.xlsx\", decimal=',')\n",
    "dados.shape"
   ]
  },
  {
   "cell_type": "code",
   "execution_count": 6,
   "id": "9a7c24f9-5cf2-4976-aaa8-add402d6188b",
   "metadata": {},
   "outputs": [
    {
     "data": {
      "text/plain": [
       "(212839, 38)"
      ]
     },
     "execution_count": 6,
     "metadata": {},
     "output_type": "execute_result"
    }
   ],
   "source": [
    "#salvando os dados de 2021\n",
    "dados21 = dados[dados['ANO_APOLICE'] == 2021]\n",
    "dados21.shape"
   ]
  },
  {
   "cell_type": "code",
   "execution_count": null,
   "id": "2dc045be-19bc-4486-a60c-c4fdcd5ef0bf",
   "metadata": {},
   "outputs": [],
   "source": [
    "Cada uma das 212839 linhas, é uma apólice contratada por um produtor. "
   ]
  },
  {
   "cell_type": "code",
   "execution_count": null,
   "id": "a765ba60-f10b-4abd-8d5a-036a7a5dfa5f",
   "metadata": {},
   "outputs": [],
   "source": []
  }
 ],
 "metadata": {
  "kernelspec": {
   "display_name": "Python 3 (ipykernel)",
   "language": "python",
   "name": "python3"
  },
  "language_info": {
   "codemirror_mode": {
    "name": "ipython",
    "version": 3
   },
   "file_extension": ".py",
   "mimetype": "text/x-python",
   "name": "python",
   "nbconvert_exporter": "python",
   "pygments_lexer": "ipython3",
   "version": "3.13.5"
  }
 },
 "nbformat": 4,
 "nbformat_minor": 5
}
